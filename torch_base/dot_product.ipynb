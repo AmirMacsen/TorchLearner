{
 "cells": [
  {
   "metadata": {},
   "cell_type": "markdown",
   "source": [
    "### 点积（内积）\n",
    "给定两个向量，计算两个向量的点积。 假设两个向量的维度相同， 则点积的计算公式为：\n",
    "$$\n",
    "\\begin{aligned}\n",
    "a \\cdot b &= \\sum_{i=1}^{n} a_i b_i \\\\\n",
    "&= a_1 b_1 + a_2 b_2 + \\cdots + a_n b_n\n",
    "\\end{aligned}\n",
    "$$\n",
    "\n",
    "也就是说，计算点积返回的是一个标量"
   ],
   "id": "448c43d6212734f6"
  },
  {
   "metadata": {},
   "cell_type": "code",
   "outputs": [],
   "execution_count": null,
   "source": [
    "import torch\n",
    "a = torch.tensor([1, 2, 3])\n",
    "b = torch.tensor([4, 5, 6])\n",
    "print(torch.dot(a, b))\n",
    "# 以上计算方式等价于下面的计算方式\n",
    "print(torch.sum(a * b))"
   ],
   "id": "3acbdcc87cf111b6"
  },
  {
   "metadata": {},
   "cell_type": "markdown",
   "source": [
    "### 矩阵*向量\n",
    "矩阵和向量相乘，矩阵的维度为m行n列，向量的维度为n列，则矩阵和向量的乘积的维度为m行1列。\n",
    "矩阵和向量的乘积的计算公式为：\n",
    "$$\n",
    "\\begin{aligned}\n",
    "A \\times b &= \\begin{bmatrix}\n",
    "a_{11} & a_{12} & \\cdots & a_{1n} \\\\\n",
    "a_{21} & a_{22} & \\cdots & a_{2n} \\\\\n",
    "\\vdots & \\vdots & \\ddots & \\vdots \\\\\n",
    "a_{m1} & a_{m2} & \\cdots & a_{mn}\n",
    "\\end{bmatrix} \\times \\begin{bmatrix}\n",
    "b_1 \\\\\n",
    "b_2 \\\\\n",
    "\\vdots \\\\\n",
    "b_n\n",
    "\\end{bmatrix} \\\\\n",
    "&= \\begin{bmatrix}\n",
    "a_{11} b_1 + a_{12} b_2 + \\cdots + a_{1n} b_n \\\\\n",
    "a_{21} b_1 + a_{22} b_2 + \\cdots + a_{2n} b_n \\\\\n",
    "\\vdots \\\\\n",
    "a_{m1} b_1 + a_{m2} b_2 + \\cdots + a_{mn} b_n\n",
    "\\end{bmatrix}\n",
    "\\end{aligned}\n",
    "$$\n",
    "\n",
    "我们通常说的向量，就是列向量，矩阵的一行实际上就是转置了的列向量，记为$b^T$\n",
    "那么以上公式就可以简化为：\n",
    "$$\n",
    "\\begin{aligned}\n",
    "A \\times b &= A \\times b^T \\\\\n",
    "&= \\begin{bmatrix}\n",
    "a_{11} & a_{12} & \\cdots & a_{1n} \\\\\n",
    "a_{21} & a_{22} & \\cdots & a_{2n} \\\\\n",
    "\\vdots & \\vdots & \\ddots & \\vdots \\\\\n",
    "a_{m1} & a_{m2} & \\cdots & a_{mn}\n",
    "\\end{bmatrix} \\times \\begin{bmatrix}\n",
    "b_1 & b_2 & \\cdots & b_n\n",
    "\\end{bmatrix}\n",
    "\\\\\n",
    "&= \\begin{bmatrix}\n",
    "a_{11} b_1 + a_{12} b_2 + \\cdots + a_{1n} b_n \\\\\n",
    "a_{21} b_1 + a_{22} b_2 + \\cdots + a_{2n} b_n \\\\\n",
    "\\vdots \\\\\n",
    "a_{m1} b_1 + a_{m2} b_2 + \\cdots + a_{mn} b_n\n",
    "\\end{bmatrix}\n",
    "\\end{aligned}\n",
    "$$\n",
    "\n"
   ],
   "id": "10d0144793fa7eca"
  },
  {
   "metadata": {
    "ExecuteTime": {
     "end_time": "2025-09-01T08:04:27.912419Z",
     "start_time": "2025-09-01T08:04:27.906500Z"
    }
   },
   "cell_type": "code",
   "source": [
    "### 矩阵和向量乘法的计算\n",
    "a = torch.ones(5,10, dtype=torch.float32)\n",
    "b = torch.arange(10, dtype=torch.float32)\n",
    "a,b"
   ],
   "id": "3e8ce452503aebcf",
   "outputs": [
    {
     "data": {
      "text/plain": [
       "(tensor([[1., 1., 1., 1., 1., 1., 1., 1., 1., 1.],\n",
       "         [1., 1., 1., 1., 1., 1., 1., 1., 1., 1.],\n",
       "         [1., 1., 1., 1., 1., 1., 1., 1., 1., 1.],\n",
       "         [1., 1., 1., 1., 1., 1., 1., 1., 1., 1.],\n",
       "         [1., 1., 1., 1., 1., 1., 1., 1., 1., 1.]]),\n",
       " tensor([0., 1., 2., 3., 4., 5., 6., 7., 8., 9.]))"
      ]
     },
     "execution_count": 12,
     "metadata": {},
     "output_type": "execute_result"
    }
   ],
   "execution_count": 12
  },
  {
   "metadata": {
    "ExecuteTime": {
     "end_time": "2025-09-01T08:05:54.797326Z",
     "start_time": "2025-09-01T08:05:54.793461Z"
    }
   },
   "cell_type": "code",
   "source": [
    "### 计算过程就是从矩阵拿出一行，分别与列向量相乘再相加 m的意思是matrics，v是vector\n",
    "torch.mv(a,b)"
   ],
   "id": "3b2714f8a45ed4d8",
   "outputs": [
    {
     "data": {
      "text/plain": [
       "tensor([45., 45., 45., 45., 45.])"
      ]
     },
     "execution_count": 14,
     "metadata": {},
     "output_type": "execute_result"
    }
   ],
   "execution_count": 14
  },
  {
   "metadata": {},
   "cell_type": "markdown",
   "source": [
    "### 矩阵的乘法\n",
    "矩阵和矩阵相乘，矩阵的维度为m行n列，矩阵的维度为n行p列，则矩阵和矩阵的乘积的维度为m行p列。\n",
    "矩阵和矩阵相乘的计算公式为：\n",
    "$$\n",
    "\\begin{aligned}\n",
    "A \\times B &= \\begin{bmatrix}\n",
    "a_{11} & a_{12} & \\cdots & a_{1n} \\\\\n",
    "a_{21} & a_{22} & \\cdots & a_{2n} \\\\\n",
    "\\vdots & \\vdots & \\ddots & \\vdots \\\\\n",
    "a_{m1} & a_{m2} & \\cdots & a_{mn}\n",
    "\\end{bmatrix} \\times \\begin{bmatrix}\n",
    "b_{11} & b_{12} & \\cdots & b_{1p} \\\\\n",
    "b_{21} & b_{22} & \\cdots & b_{2p} \\\\\n",
    "\\vdots & \\vdots & \\ddots & \\vdots \\\\\n",
    "b_{m1} & b_{m2} & \\cdots & b_{mp}\n",
    "\\end{bmatrix}\n",
    "\\\\\n",
    "&= \\begin{bmatrix}\n",
    "a_{11} b_{11} + a_{12} b_{21} + \\cdots + a_{1n} b_{m1} & a_{11} b_{12} + a_{12} b_{22} + \\cdots + a_{1n} b_{m2} & \\cdots & a_{11} b_{1p} + a_{12} b_{2p} + \\cdots + a_{1n} b_{mp} \\\\\n",
    "a_{21} b_{11} + a_{22} b_{21} + \\cdots + a_{2n} b_{m1} &\n",
    "a_{21} b_{12} + a_{22} b_{22} + \\cdots + a_{2n} b_{m2} & \\cdots & a_{21} b_{1p} + a_{22} b_{2p} + \\cdots + a_{2n} b_{mp} \\\\\n",
    "\\vdots & \\vdots & \\ddots & \\vdots \\\\\n",
    "a_{m1} b_{11} + a_{m2} b_{21} + \\cdots + a_{mn}\n",
    "b_{m1} & a_{m1} b_{12} + a_{m2} b_{22} + \\cdots + a_{mn} b_{m2} & \\cdots & a_{m1} b_{1p} + a_{m2} b_{2p} + \\cdots + a_{mn} b_{mp}\n",
    "\\end{bmatrix}\n",
    "\\end{aligned}\n",
    "$$\n",
    "\n"
   ],
   "id": "e3c2c88dabf789eb"
  },
  {
   "metadata": {
    "ExecuteTime": {
     "end_time": "2025-09-01T08:09:28.847942Z",
     "start_time": "2025-09-01T08:09:28.836941Z"
    }
   },
   "cell_type": "code",
   "source": [
    "### 矩阵乘法 m表示矩阵\n",
    "a = torch.ones(5,10, dtype=torch.float32)\n",
    "b = torch.ones(10,5, dtype=torch.float32)\n",
    "torch.mm(a,b)"
   ],
   "id": "eba3f1bb95d1f3df",
   "outputs": [
    {
     "data": {
      "text/plain": [
       "tensor([[10., 10., 10., 10., 10.],\n",
       "        [10., 10., 10., 10., 10.],\n",
       "        [10., 10., 10., 10., 10.],\n",
       "        [10., 10., 10., 10., 10.],\n",
       "        [10., 10., 10., 10., 10.]])"
      ]
     },
     "execution_count": 15,
     "metadata": {},
     "output_type": "execute_result"
    }
   ],
   "execution_count": 15
  },
  {
   "metadata": {},
   "cell_type": "code",
   "outputs": [],
   "execution_count": null,
   "source": "",
   "id": "3c49a0ecbdcd9a2"
  }
 ],
 "metadata": {
  "kernelspec": {
   "display_name": "Python 3",
   "language": "python",
   "name": "python3"
  },
  "language_info": {
   "codemirror_mode": {
    "name": "ipython",
    "version": 2
   },
   "file_extension": ".py",
   "mimetype": "text/x-python",
   "name": "python",
   "nbconvert_exporter": "python",
   "pygments_lexer": "ipython2",
   "version": "2.7.6"
  }
 },
 "nbformat": 4,
 "nbformat_minor": 5
}
