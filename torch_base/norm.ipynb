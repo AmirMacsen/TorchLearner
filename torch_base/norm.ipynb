{
 "cells": [
  {
   "metadata": {},
   "cell_type": "markdown",
   "source": [
    "### 范数\n",
    "什么是范数？范数是描述向量大小的某种运算。但是本质上向量没有大小，范数聚焦于向量分量的数值规模。\n",
    "本质上是向量-》标量的一种映射规则，需要满足线性代数的范数公理，比如正定性、齐次性等。\n",
    "\n",
    "范数本质上就是一种函数。但是这个函数必须满足如下条件\n",
    "1. 齐次性：f(a*x) = a*f(x)\n",
    "2. 三角不等式：f(x+y) <= f(x)+f(y)\n",
    "3. 非负性：f(x) >= 0 （x等于零向量时，才能相等）"
   ],
   "id": "2f69fb1a07739b71"
  },
  {
   "metadata": {},
   "cell_type": "markdown",
   "source": [
    "### L2范数\n",
    "L2范数是最常用的范数，也叫欧式距离。L2范数是向量中各个分量的平方和再开平方，这个平方和就是向量的模。\n",
    "L2范数也叫欧式距离，也叫L2范数。\n",
    "L2范数公式为：\n",
    "$$\n",
    "L2范数 = \\sqrt{\\sum_{i=1}^{n} x_i^2}\n",
    "$$"
   ],
   "id": "afa7b561a6a7af8e"
  },
  {
   "metadata": {},
   "cell_type": "markdown",
   "source": [
    "### L1范数\n",
    "L1范数也叫曼哈顿距离。L1范数是向量中各个分量的绝对值之和，这个绝对值之和就是向量的模。\n",
    "L1范数公式为：\n",
    "$$\n",
    "L1范数 = \\sum_{i=1}^{n} |x_i|\n",
    "$$"
   ],
   "id": "77393d3444fed272"
  },
  {
   "metadata": {},
   "cell_type": "markdown",
   "source": [
    "### Lp范数\n",
    "Lp范数是L1范数和L2范数的 generalization，Lp范数公式为：\n",
    "$$\n",
    "Lp范数 = \\left(\\sum_{i=1}^{n} |x_i|^p\\right)^{1/p}\n",
    "$$"
   ],
   "id": "c301fff346a4cbc4"
  },
  {
   "metadata": {},
   "cell_type": "markdown",
   "source": "",
   "id": "90d404cff2d5f445"
  },
  {
   "metadata": {
    "ExecuteTime": {
     "end_time": "2025-09-01T08:23:29.136379Z",
     "start_time": "2025-09-01T08:23:29.132106Z"
    }
   },
   "cell_type": "code",
   "source": [
    "import torch\n",
    "\n",
    "### 计算L2范数\n",
    "a = torch.tensor([1, 2, 3, 4, 5], dtype=torch.float32)\n",
    "l2 = torch.norm(a)\n",
    "l2"
   ],
   "id": "a7008e890ffbbe04",
   "outputs": [
    {
     "data": {
      "text/plain": [
       "tensor(7.4162)"
      ]
     },
     "execution_count": 7,
     "metadata": {},
     "output_type": "execute_result"
    }
   ],
   "execution_count": 7
  },
  {
   "metadata": {
    "ExecuteTime": {
     "end_time": "2025-09-01T08:25:13.367431Z",
     "start_time": "2025-09-01T08:25:13.364026Z"
    }
   },
   "cell_type": "code",
   "source": [
    "### 计算L1范数\n",
    "l1 = torch.norm(a, p=1)\n",
    "\n",
    "### 等价于\n",
    "print(torch.abs(a).sum())"
   ],
   "id": "f52772ba6a8737b8",
   "outputs": [
    {
     "name": "stdout",
     "output_type": "stream",
     "text": [
      "tensor(15.)\n"
     ]
    }
   ],
   "execution_count": 11
  },
  {
   "metadata": {},
   "cell_type": "code",
   "outputs": [],
   "execution_count": null,
   "source": "",
   "id": "b5bf6c9623a425f1"
  }
 ],
 "metadata": {
  "kernelspec": {
   "display_name": "Python 3",
   "language": "python",
   "name": "python3"
  },
  "language_info": {
   "codemirror_mode": {
    "name": "ipython",
    "version": 2
   },
   "file_extension": ".py",
   "mimetype": "text/x-python",
   "name": "python",
   "nbconvert_exporter": "python",
   "pygments_lexer": "ipython2",
   "version": "2.7.6"
  }
 },
 "nbformat": 4,
 "nbformat_minor": 5
}
