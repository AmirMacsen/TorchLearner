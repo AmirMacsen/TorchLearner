{
 "cells": [
  {
   "cell_type": "code",
   "id": "initial_id",
   "metadata": {
    "collapsed": true,
    "ExecuteTime": {
     "end_time": "2025-09-01T05:37:30.889731Z",
     "start_time": "2025-09-01T05:37:29.913586Z"
    }
   },
   "source": "import torch",
   "outputs": [],
   "execution_count": 2
  },
  {
   "metadata": {
    "ExecuteTime": {
     "end_time": "2025-09-01T02:42:48.073369Z",
     "start_time": "2025-09-01T02:42:48.066110Z"
    }
   },
   "cell_type": "code",
   "source": [
    "# 创建一个tensor向量\n",
    "x = torch.arange(12)\n",
    "x"
   ],
   "id": "3f1373c6388ca056",
   "outputs": [
    {
     "data": {
      "text/plain": [
       "tensor([ 0,  1,  2,  3,  4,  5,  6,  7,  8,  9, 10, 11])"
      ]
     },
     "execution_count": 2,
     "metadata": {},
     "output_type": "execute_result"
    }
   ],
   "execution_count": 2
  },
  {
   "metadata": {
    "ExecuteTime": {
     "end_time": "2025-09-01T02:43:14.052228Z",
     "start_time": "2025-09-01T02:43:14.049010Z"
    }
   },
   "cell_type": "code",
   "source": [
    "# tensor的形状\n",
    "x.shape"
   ],
   "id": "29c5413ea5b1bfa5",
   "outputs": [
    {
     "data": {
      "text/plain": [
       "torch.Size([12])"
      ]
     },
     "execution_count": 3,
     "metadata": {},
     "output_type": "execute_result"
    }
   ],
   "execution_count": 3
  },
  {
   "metadata": {
    "ExecuteTime": {
     "end_time": "2025-09-01T02:44:04.423681Z",
     "start_time": "2025-09-01T02:44:04.420806Z"
    }
   },
   "cell_type": "code",
   "source": [
    "# 计算张量中元素的总数  num是数量的简写，el 是element的简写\n",
    "x.numel()"
   ],
   "id": "9d75e39d07d47ab4",
   "outputs": [
    {
     "data": {
      "text/plain": [
       "12"
      ]
     },
     "execution_count": 5,
     "metadata": {},
     "output_type": "execute_result"
    }
   ],
   "execution_count": 5
  },
  {
   "metadata": {
    "ExecuteTime": {
     "end_time": "2025-09-01T02:44:42.591715Z",
     "start_time": "2025-09-01T02:44:42.587807Z"
    }
   },
   "cell_type": "code",
   "source": [
    "# 改变张量的形状  注意：调整之后包含的元素的总数是不变的\n",
    "x = x.reshape(3,4)\n",
    "x"
   ],
   "id": "691ae04be1e95da9",
   "outputs": [
    {
     "data": {
      "text/plain": [
       "tensor([[ 0,  1,  2,  3],\n",
       "        [ 4,  5,  6,  7],\n",
       "        [ 8,  9, 10, 11]])"
      ]
     },
     "execution_count": 8,
     "metadata": {},
     "output_type": "execute_result"
    }
   ],
   "execution_count": 8
  },
  {
   "metadata": {
    "ExecuteTime": {
     "end_time": "2025-09-01T04:02:46.251416Z",
     "start_time": "2025-09-01T04:02:46.236826Z"
    }
   },
   "cell_type": "code",
   "source": [
    "# reshape自动推导维度  不想计算的可以写成-1\n",
    "x = x.reshape(4, -1)\n",
    "x"
   ],
   "id": "b6f85030b0f0c8aa",
   "outputs": [
    {
     "data": {
      "text/plain": [
       "tensor([[ 0,  1,  2],\n",
       "        [ 3,  4,  5],\n",
       "        [ 6,  7,  8],\n",
       "        [ 9, 10, 11]])"
      ]
     },
     "execution_count": 9,
     "metadata": {},
     "output_type": "execute_result"
    }
   ],
   "execution_count": 9
  },
  {
   "metadata": {
    "ExecuteTime": {
     "end_time": "2025-09-01T04:04:20.099738Z",
     "start_time": "2025-09-01T04:04:20.092888Z"
    }
   },
   "cell_type": "code",
   "source": [
    "### 常量初始化\n",
    "x = torch.Tensor([2.0,3.0])\n",
    "x"
   ],
   "id": "a6f3c11db3fa0a07",
   "outputs": [
    {
     "data": {
      "text/plain": [
       "tensor([2., 3.])"
      ]
     },
     "execution_count": 10,
     "metadata": {},
     "output_type": "execute_result"
    }
   ],
   "execution_count": 10
  },
  {
   "metadata": {
    "ExecuteTime": {
     "end_time": "2025-09-01T04:04:31.553628Z",
     "start_time": "2025-09-01T04:04:31.549904Z"
    }
   },
   "cell_type": "code",
   "source": [
    "x = torch.zeros(2,3)\n",
    "x"
   ],
   "id": "83ff005b3848217e",
   "outputs": [
    {
     "data": {
      "text/plain": [
       "tensor([[0., 0., 0.],\n",
       "        [0., 0., 0.]])"
      ]
     },
     "execution_count": 11,
     "metadata": {},
     "output_type": "execute_result"
    }
   ],
   "execution_count": 11
  },
  {
   "metadata": {
    "ExecuteTime": {
     "end_time": "2025-09-01T04:04:46.610Z",
     "start_time": "2025-09-01T04:04:46.606358Z"
    }
   },
   "cell_type": "code",
   "source": [
    "x = torch.ones(2,3)\n",
    "x"
   ],
   "id": "c98ad286b899b511",
   "outputs": [
    {
     "data": {
      "text/plain": [
       "tensor([[1., 1., 1.],\n",
       "        [1., 1., 1.]])"
      ]
     },
     "execution_count": 14,
     "metadata": {},
     "output_type": "execute_result"
    }
   ],
   "execution_count": 14
  },
  {
   "metadata": {
    "ExecuteTime": {
     "end_time": "2025-09-01T04:05:21.153248Z",
     "start_time": "2025-09-01T04:05:21.149408Z"
    }
   },
   "cell_type": "code",
   "source": [
    "# 正态分布\n",
    "x = torch.randn(2,3)\n",
    "x"
   ],
   "id": "63bc5b8278ab625",
   "outputs": [
    {
     "data": {
      "text/plain": [
       "tensor([[ 1.2651,  0.5375,  0.5005],\n",
       "        [-0.2406,  1.0201,  0.2007]])"
      ]
     },
     "execution_count": 16,
     "metadata": {},
     "output_type": "execute_result"
    }
   ],
   "execution_count": 16
  },
  {
   "metadata": {
    "ExecuteTime": {
     "end_time": "2025-09-01T04:07:01.875678Z",
     "start_time": "2025-09-01T04:07:01.871830Z"
    }
   },
   "cell_type": "code",
   "source": [
    "# 创建一个三维矩阵  (2,3,4)  可以理解为创建一个2维的3行4列的矩阵\n",
    "# 维度可以数最开始的[的数量\n",
    "x = torch.randn(2,3,4)\n",
    "x"
   ],
   "id": "4853625361d796ab",
   "outputs": [
    {
     "data": {
      "text/plain": [
       "tensor([[[-0.0786, -0.9928, -1.6374, -0.2695],\n",
       "         [ 1.4423,  3.4908, -0.5053,  0.2021],\n",
       "         [-0.7863,  0.7694, -0.6712,  0.3231]],\n",
       "\n",
       "        [[ 0.9712, -0.7460,  0.2226, -0.5333],\n",
       "         [-1.3778, -0.9509, -0.6298, -0.2372],\n",
       "         [-0.9376, -0.3913, -1.5066, -0.1583]]])"
      ]
     },
     "execution_count": 17,
     "metadata": {},
     "output_type": "execute_result"
    }
   ],
   "execution_count": 17
  },
  {
   "metadata": {},
   "cell_type": "markdown",
   "source": [
    "### 按元素运算\n",
    "算数运算符操作两个张量，计算方式就是按元素运算\n",
    "按元素运算的意思是，张量对应位置的元素进行算数运算"
   ],
   "id": "7266f9fbcba6a05b"
  },
  {
   "metadata": {
    "ExecuteTime": {
     "end_time": "2025-09-01T04:40:10.756613Z",
     "start_time": "2025-09-01T04:40:10.752646Z"
    }
   },
   "cell_type": "code",
   "source": [
    "x = torch.arange(12)\n",
    "y = torch.arange(12,24)\n",
    "# 按元素求和\n",
    "x+y, x-y"
   ],
   "id": "8a5e38961c14ae07",
   "outputs": [
    {
     "data": {
      "text/plain": [
       "(tensor([12, 14, 16, 18, 20, 22, 24, 26, 28, 30, 32, 34]),\n",
       " tensor([-12, -12, -12, -12, -12, -12, -12, -12, -12, -12, -12, -12]))"
      ]
     },
     "execution_count": 21,
     "metadata": {},
     "output_type": "execute_result"
    }
   ],
   "execution_count": 21
  },
  {
   "metadata": {
    "ExecuteTime": {
     "end_time": "2025-09-01T04:41:39.747708Z",
     "start_time": "2025-09-01T04:41:39.744569Z"
    }
   },
   "cell_type": "code",
   "source": [
    "### 指数运算\n",
    "x = torch.exp(x)\n",
    "x"
   ],
   "id": "a06418e178a27d31",
   "outputs": [
    {
     "data": {
      "text/plain": [
       "tensor([2.7183e+00, 1.5154e+01, 1.6182e+03, 5.2849e+08, 5.1484e+23,        inf,\n",
       "               inf,        inf,        inf,        inf,        inf,        inf])"
      ]
     },
     "execution_count": 23,
     "metadata": {},
     "output_type": "execute_result"
    }
   ],
   "execution_count": 23
  },
  {
   "metadata": {
    "ExecuteTime": {
     "end_time": "2025-09-01T04:45:15.911494Z",
     "start_time": "2025-09-01T04:45:15.907212Z"
    }
   },
   "cell_type": "code",
   "source": [
    "## 拼接\n",
    "x = torch.arange(12).reshape(3,4)\n",
    "y = torch.arange(12,24).reshape(3,4)\n",
    "\n",
    "# 3，4\n",
    "# 3，4\n",
    "# 按照0维度拼接，就是0维数相加  6，4\n",
    "c1 = torch.cat((x,y), dim=0)\n",
    "c1"
   ],
   "id": "1ae167db9487ee7",
   "outputs": [
    {
     "data": {
      "text/plain": [
       "tensor([[ 0,  1,  2,  3],\n",
       "        [ 4,  5,  6,  7],\n",
       "        [ 8,  9, 10, 11],\n",
       "        [12, 13, 14, 15],\n",
       "        [16, 17, 18, 19],\n",
       "        [20, 21, 22, 23]])"
      ]
     },
     "execution_count": 25,
     "metadata": {},
     "output_type": "execute_result"
    }
   ],
   "execution_count": 25
  },
  {
   "metadata": {
    "ExecuteTime": {
     "end_time": "2025-09-01T04:45:43.613987Z",
     "start_time": "2025-09-01T04:45:43.610546Z"
    }
   },
   "cell_type": "code",
   "source": [
    "## 按照1维数相加，结果 3，8\n",
    "c2 = torch.cat((x,y), dim=1)\n",
    "c2"
   ],
   "id": "3acefdcce62cd120",
   "outputs": [
    {
     "data": {
      "text/plain": [
       "tensor([[ 0,  1,  2,  3, 12, 13, 14, 15],\n",
       "        [ 4,  5,  6,  7, 16, 17, 18, 19],\n",
       "        [ 8,  9, 10, 11, 20, 21, 22, 23]])"
      ]
     },
     "execution_count": 26,
     "metadata": {},
     "output_type": "execute_result"
    }
   ],
   "execution_count": 26
  },
  {
   "metadata": {},
   "cell_type": "markdown",
   "source": [
    "### 广播机制\n",
    "在按元素计算的时候，两个张量形状可能不同，但是pytorch对此做了优化，可以对形状不同的张量补充元素然后变成同样的形状，最后计算"
   ],
   "id": "3e78bd02b7c28a98"
  },
  {
   "metadata": {
    "ExecuteTime": {
     "end_time": "2025-09-01T04:55:06.883222Z",
     "start_time": "2025-09-01T04:55:06.879589Z"
    }
   },
   "cell_type": "code",
   "source": [
    "x = torch.arange(3).reshape(3,1)\n",
    "y = torch.arange(2).reshape(1,2)\n",
    "x+y"
   ],
   "id": "c4115e483bdb67a5",
   "outputs": [
    {
     "data": {
      "text/plain": [
       "tensor([[0, 1],\n",
       "        [1, 2],\n",
       "        [2, 3]])"
      ]
     },
     "execution_count": 30,
     "metadata": {},
     "output_type": "execute_result"
    }
   ],
   "execution_count": 30
  },
  {
   "metadata": {
    "ExecuteTime": {
     "end_time": "2025-09-01T05:00:57.070934Z",
     "start_time": "2025-09-01T05:00:57.067569Z"
    }
   },
   "cell_type": "code",
   "source": [
    "### N维张量，切片/索引条件至多N个，一个条件争对一个维度\n",
    "\n",
    "x = torch.arange(60).reshape(3,4,5)\n",
    "x"
   ],
   "id": "57ce328a32888429",
   "outputs": [
    {
     "data": {
      "text/plain": [
       "tensor([[[ 0,  1,  2,  3,  4],\n",
       "         [ 5,  6,  7,  8,  9],\n",
       "         [10, 11, 12, 13, 14],\n",
       "         [15, 16, 17, 18, 19]],\n",
       "\n",
       "        [[20, 21, 22, 23, 24],\n",
       "         [25, 26, 27, 28, 29],\n",
       "         [30, 31, 32, 33, 34],\n",
       "         [35, 36, 37, 38, 39]],\n",
       "\n",
       "        [[40, 41, 42, 43, 44],\n",
       "         [45, 46, 47, 48, 49],\n",
       "         [50, 51, 52, 53, 54],\n",
       "         [55, 56, 57, 58, 59]]])"
      ]
     },
     "execution_count": 33,
     "metadata": {},
     "output_type": "execute_result"
    }
   ],
   "execution_count": 33
  },
  {
   "metadata": {
    "ExecuteTime": {
     "end_time": "2025-09-01T05:01:28.701210Z",
     "start_time": "2025-09-01T05:01:28.697662Z"
    }
   },
   "cell_type": "code",
   "source": "x[:,1,:]  # 所有矩阵中第二行的元素",
   "id": "3bf26b3a4ea66dc1",
   "outputs": [
    {
     "data": {
      "text/plain": [
       "tensor([[ 5,  6,  7,  8,  9],\n",
       "        [25, 26, 27, 28, 29],\n",
       "        [45, 46, 47, 48, 49]])"
      ]
     },
     "execution_count": 34,
     "metadata": {},
     "output_type": "execute_result"
    }
   ],
   "execution_count": 34
  },
  {
   "metadata": {
    "ExecuteTime": {
     "end_time": "2025-09-01T05:01:56.847947Z",
     "start_time": "2025-09-01T05:01:56.844618Z"
    }
   },
   "cell_type": "code",
   "source": "x[2,:,:] # 第二个矩阵的所有元素",
   "id": "c5056e31d0a150f3",
   "outputs": [
    {
     "data": {
      "text/plain": [
       "tensor([[40, 41, 42, 43, 44],\n",
       "        [45, 46, 47, 48, 49],\n",
       "        [50, 51, 52, 53, 54],\n",
       "        [55, 56, 57, 58, 59]])"
      ]
     },
     "execution_count": 35,
     "metadata": {},
     "output_type": "execute_result"
    }
   ],
   "execution_count": 35
  },
  {
   "metadata": {
    "ExecuteTime": {
     "end_time": "2025-09-01T05:02:27.328673Z",
     "start_time": "2025-09-01T05:02:27.325514Z"
    }
   },
   "cell_type": "code",
   "source": "x[2,1,1] # 第三个矩阵的第二行第二列的元素",
   "id": "6dec227cb3d45bad",
   "outputs": [
    {
     "data": {
      "text/plain": [
       "tensor(46)"
      ]
     },
     "execution_count": 37,
     "metadata": {},
     "output_type": "execute_result"
    }
   ],
   "execution_count": 37
  },
  {
   "metadata": {
    "ExecuteTime": {
     "end_time": "2025-09-01T05:02:43.219238Z",
     "start_time": "2025-09-01T05:02:43.216049Z"
    }
   },
   "cell_type": "code",
   "source": "x[2,1,1:4] # 第三个矩阵的第二行第二列的元素到第四列的元素",
   "id": "e7c826ee99e0e73",
   "outputs": [
    {
     "data": {
      "text/plain": [
       "tensor([46, 47, 48])"
      ]
     },
     "execution_count": 38,
     "metadata": {},
     "output_type": "execute_result"
    }
   ],
   "execution_count": 38
  },
  {
   "metadata": {
    "ExecuteTime": {
     "end_time": "2025-09-01T05:20:06.712299Z",
     "start_time": "2025-09-01T05:20:06.707659Z"
    }
   },
   "cell_type": "code",
   "source": [
    "### 内存分配问题\n",
    "x = torch.arange(12).reshape(3,4)\n",
    "y = torch.arange(12,24).reshape(3,4)\n",
    "\n",
    "print(id(x))\n",
    "x = x+y\n",
    "print(id(x))\n",
    "\n",
    "# 上面存在问题是张量计算后，x重新在内存中开辟了一段空间\n",
    "# 这在普通计算中没有问题，但是如果在训练过程中，参数两会非常大，因此，为了内容的有效利用，新的x最好能覆盖掉老的x，方式有两种\n",
    "x = torch.arange(12).reshape(3,4)\n",
    "y = torch.arange(12,24).reshape(3,4)\n",
    "\n",
    "# 方式1: 使用 +=\n",
    "x += y\n",
    "print(id(x))\n",
    "# 方式2: 使用[:]\n",
    "x[:] = x+y\n",
    "print(id(x))"
   ],
   "id": "d29615fcb4d19446",
   "outputs": [
    {
     "name": "stdout",
     "output_type": "stream",
     "text": [
      "1215647714912\n",
      "1215647727232\n",
      "1215647718432\n",
      "1215647718432\n"
     ]
    }
   ],
   "execution_count": 40
  },
  {
   "metadata": {
    "ExecuteTime": {
     "end_time": "2025-09-01T05:25:23.428736Z",
     "start_time": "2025-09-01T05:25:23.425588Z"
    }
   },
   "cell_type": "code",
   "source": [
    "## 张量和ndarray相互转换\n",
    "import numpy as np\n",
    "\n",
    "arr = np.arange(12)\n",
    "tensor = torch.arange(12)\n",
    "print(type( arr), type(tensor))\n",
    "\n",
    "tensor_to_arr = tensor.numpy()\n",
    "arr_to_tensor = torch.from_numpy(arr)\n",
    "print(type( tensor_to_arr), type(arr_to_tensor))\n",
    "\n",
    "# 转换后对原来数据的修改也会对新数据产生影响\n",
    "arr[0]= 500\n",
    "print(arr)\n",
    "print(arr_to_tensor)"
   ],
   "id": "e43ee5b73724a681",
   "outputs": [
    {
     "name": "stdout",
     "output_type": "stream",
     "text": [
      "<class 'numpy.ndarray'> <class 'torch.Tensor'>\n",
      "<class 'numpy.ndarray'> <class 'torch.Tensor'>\n",
      "[500   1   2   3   4   5   6   7   8   9  10  11]\n",
      "tensor([500,   1,   2,   3,   4,   5,   6,   7,   8,   9,  10,  11])\n"
     ]
    }
   ],
   "execution_count": 44
  },
  {
   "metadata": {
    "ExecuteTime": {
     "end_time": "2025-09-01T05:53:07.869387Z",
     "start_time": "2025-09-01T05:53:07.859871Z"
    }
   },
   "cell_type": "code",
   "source": [
    "### 使用pandas预处理数据，并转化成张量\n",
    "# 1. 生成原始数据\n",
    "import pandas as pd\n",
    "import numpy as np\n",
    "import os\n",
    "if not os.path.exists('data'):\n",
    "    os.mkdir('data')\n",
    "\n",
    "data_file = os.path.join('data', 'house_tiny.csv')\n",
    "if os.path.exists(data_file):\n",
    "    os.remove(data_file)\n",
    "with open(data_file, 'w') as f:\n",
    "    f.write('NumRooms,Alley,Price\\n')\n",
    "    f.write('NA,Pave,127500\\n')\n",
    "    f.write('2,NA,106000\\n')\n",
    "    f.write('4,NA,178100\\n')\n",
    "    f.write('NA,NA,140000\\n')\n",
    "\n",
    "data = pd.read_csv(data_file)\n",
    "\n",
    "#2. 数据处理：填充缺失数据或者删除与NAN的行，本次样本较少，做填充\n",
    "### 把数据拆一下：输入和标签  前两列作为输入，后一列作为标签\n",
    "### iloc输入两个参数，第一个参数是行，第二个参数是列\n",
    "inputs, outputs = data.iloc[:,0:2], data.iloc[:,2]\n",
    "\n",
    "## 对数字列进行均值填充\n",
    "inputs['NumRooms'] = inputs['NumRooms'].fillna(inputs['NumRooms'].mean())\n",
    "\n",
    "### 对于离散值列，用众数填充\n",
    "inputs = pd.get_dummies(inputs, dummy_na=True)\n",
    "inputs\n",
    "\n",
    "# 3. 把数据转换成张量\n",
    "x = torch.tensor(inputs.to_numpy(dtype=np.float32))\n",
    "y = torch.tensor(outputs.to_numpy(dtype=np.float32))\n",
    "print(x, y)"
   ],
   "id": "5defd7bc1cd11b12",
   "outputs": [
    {
     "name": "stdout",
     "output_type": "stream",
     "text": [
      "tensor([[3., 1., 0.],\n",
      "        [2., 0., 1.],\n",
      "        [4., 0., 1.],\n",
      "        [3., 0., 1.]]) tensor([127500., 106000., 178100., 140000.])\n"
     ]
    }
   ],
   "execution_count": 18
  },
  {
   "metadata": {},
   "cell_type": "code",
   "outputs": [],
   "execution_count": null,
   "source": "",
   "id": "a9372da926b8143c"
  }
 ],
 "metadata": {
  "kernelspec": {
   "display_name": "Python 3",
   "language": "python",
   "name": "python3"
  },
  "language_info": {
   "codemirror_mode": {
    "name": "ipython",
    "version": 2
   },
   "file_extension": ".py",
   "mimetype": "text/x-python",
   "name": "python",
   "nbconvert_exporter": "python",
   "pygments_lexer": "ipython2",
   "version": "2.7.6"
  }
 },
 "nbformat": 4,
 "nbformat_minor": 5
}
