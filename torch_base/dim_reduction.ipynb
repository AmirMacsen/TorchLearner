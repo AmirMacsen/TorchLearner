{
 "cells": [
  {
   "cell_type": "code",
   "id": "initial_id",
   "metadata": {
    "collapsed": true,
    "ExecuteTime": {
     "end_time": "2025-09-01T07:11:19.107818Z",
     "start_time": "2025-09-01T07:11:19.104041Z"
    }
   },
   "source": [
    "import torch\n",
    "### tensor dim reduction\n",
    "\n",
    "x = torch.randn(100, 100)\n",
    "print(x.shape)\n",
    "## 使用sum降维\n",
    "x_sum = x.sum()\n",
    "x_sum"
   ],
   "outputs": [
    {
     "name": "stdout",
     "output_type": "stream",
     "text": [
      "torch.Size([100, 100])\n"
     ]
    },
    {
     "data": {
      "text/plain": [
       "tensor(44.3707)"
      ]
     },
     "execution_count": 6,
     "metadata": {},
     "output_type": "execute_result"
    }
   ],
   "execution_count": 6
  },
  {
   "metadata": {
    "ExecuteTime": {
     "end_time": "2025-09-01T07:39:42.202305Z",
     "start_time": "2025-09-01T07:39:42.196107Z"
    }
   },
   "cell_type": "code",
   "source": [
    "# 使用mean降维\n",
    "x_mean = x.mean()\n",
    "x_mean"
   ],
   "id": "5c129e22630e245c",
   "outputs": [
    {
     "data": {
      "text/plain": [
       "tensor(0.0044)"
      ]
     },
     "execution_count": 7,
     "metadata": {},
     "output_type": "execute_result"
    }
   ],
   "execution_count": 7
  },
  {
   "metadata": {
    "ExecuteTime": {
     "end_time": "2025-09-01T07:41:00.285438Z",
     "start_time": "2025-09-01T07:41:00.280150Z"
    }
   },
   "cell_type": "code",
   "source": [
    "### 非降维求和\n",
    "x_sum = x.sum(dim=0, keepdim= True)\n",
    "x_sum"
   ],
   "id": "dfa819aa161b09a4",
   "outputs": [
    {
     "data": {
      "text/plain": [
       "tensor([[  6.3227,  10.2222,  -8.3080,  -1.1066,  15.8378, -11.4458,   6.6571,\n",
       "           5.8898,  -1.5041,   4.0703,   2.5437,  15.2116,  19.8374,  -6.2833,\n",
       "           6.7619,  -1.6196,  -1.4062,  -2.6352, -10.7302,  -5.9764,  19.4582,\n",
       "          -1.2910, -10.1312,   3.5907,   7.3417,   0.4147, -26.9544,   3.1834,\n",
       "         -20.3482,   3.2309,   6.3310,  -9.1677,   1.2204,   9.7300,  -6.9429,\n",
       "           9.6258, -10.9670,   1.0715,  -0.4278, -14.3700,  16.7749,   3.0082,\n",
       "          -9.9676, -12.2086,  20.8876, -20.1125,   6.7909,   2.9310,  22.1717,\n",
       "          10.2956,  19.3286,  -5.4832,  -8.8263,   0.4489,  -9.0085,   2.9467,\n",
       "          -5.9768,  -3.7710,   2.0606,  -5.3583,  -0.9944,  -1.2583,  -0.6857,\n",
       "           7.0243,  -1.8004,  -4.7133,   9.8046,  -3.9951,  -0.5118,  -4.3848,\n",
       "           1.0895,  -0.0556,  -0.2182,  -3.4394,   3.2658, -12.3399,  -1.6672,\n",
       "           8.6567, -14.8161,   8.2910,   0.0790,  15.0675,   7.5762,   5.2508,\n",
       "         -10.6156,   5.5195,   3.4689, -33.7945,   2.0734,   7.4301,  -1.3044,\n",
       "           6.1126,  -3.8403,  -5.2832,   1.0988, -10.1992,   6.2809,  20.9881,\n",
       "          -0.7809,   8.1220]])"
      ]
     },
     "execution_count": 8,
     "metadata": {},
     "output_type": "execute_result"
    }
   ],
   "execution_count": 8
  },
  {
   "metadata": {
    "ExecuteTime": {
     "end_time": "2025-09-01T07:44:05.281158Z",
     "start_time": "2025-09-01T07:44:05.276850Z"
    }
   },
   "cell_type": "code",
   "source": [
    "### 按照维度累加, dim=0, 表示每一行的对应位置上的数字一行一行累加，从前到后累加\n",
    "x_sum = x.cumsum(dim=0)\n",
    "x_sum"
   ],
   "id": "78519e062cb4dfc",
   "outputs": [
    {
     "data": {
      "text/plain": [
       "tensor([[-1.2596, -1.6861, -0.2078,  ..., -0.9093, -0.2058,  0.4636],\n",
       "        [-1.5784, -1.4130, -0.8428,  ..., -0.7902, -0.3299,  0.2230],\n",
       "        [-1.8627, -1.3632, -0.6515,  ..., -1.3182, -0.8276, -0.3113],\n",
       "        ...,\n",
       "        [ 8.5829, 12.1907, -7.5172,  ..., 19.0124,  0.1055,  8.0376],\n",
       "        [ 7.6097, 12.0306, -8.9295,  ..., 20.5718,  0.8175,  8.6942],\n",
       "        [ 6.3227, 10.2222, -8.3080,  ..., 20.9881, -0.7809,  8.1220]])"
      ]
     },
     "execution_count": 10,
     "metadata": {},
     "output_type": "execute_result"
    }
   ],
   "execution_count": 10
  },
  {
   "metadata": {},
   "cell_type": "code",
   "outputs": [],
   "execution_count": null,
   "source": "",
   "id": "952ea42d7e99e750"
  }
 ],
 "metadata": {
  "kernelspec": {
   "display_name": "Python 3",
   "language": "python",
   "name": "python3"
  },
  "language_info": {
   "codemirror_mode": {
    "name": "ipython",
    "version": 2
   },
   "file_extension": ".py",
   "mimetype": "text/x-python",
   "name": "python",
   "nbconvert_exporter": "python",
   "pygments_lexer": "ipython2",
   "version": "2.7.6"
  }
 },
 "nbformat": 4,
 "nbformat_minor": 5
}
